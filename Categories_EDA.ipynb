{
  "nbformat": 4,
  "nbformat_minor": 0,
  "metadata": {
    "colab": {
      "provenance": []
    },
    "kernelspec": {
      "name": "python3",
      "display_name": "Python 3"
    },
    "language_info": {
      "name": "python"
    }
  },
  "cells": [
    {
      "cell_type": "code",
      "execution_count": 1,
      "metadata": {
        "id": "tA8R62iGrk8s"
      },
      "outputs": [],
      "source": [
        "import pandas as pd"
      ]
    },
    {
      "cell_type": "code",
      "source": [
        "df = pd.read_csv('yelp_academic_dataset_business (1).csv')"
      ],
      "metadata": {
        "id": "Fkgvug9lrpA1"
      },
      "execution_count": 2,
      "outputs": []
    },
    {
      "cell_type": "code",
      "source": [
        "df['categories']"
      ],
      "metadata": {
        "colab": {
          "base_uri": "https://localhost:8080/"
        },
        "id": "oTky74zHsj9u",
        "outputId": "aa5b2332-c942-4223-e604-5c15b11ce420"
      },
      "execution_count": 12,
      "outputs": [
        {
          "output_type": "execute_result",
          "data": {
            "text/plain": [
              "0         Doctors, Traditional Chinese Medicine, Naturop...\n",
              "1         Shipping Centers, Local Services, Notaries, Ma...\n",
              "2         Department Stores, Shopping, Fashion, Home & G...\n",
              "3         Restaurants, Food, Bubble Tea, Coffee & Tea, B...\n",
              "4                                 Brewpubs, Breweries, Food\n",
              "                                ...                        \n",
              "150341                           Nail Salons, Beauty & Spas\n",
              "150342    Pets, Nurseries & Gardening, Pet Stores, Hobby...\n",
              "150343    Shopping, Jewelry, Piercing, Toy Stores, Beaut...\n",
              "150344    Fitness/Exercise Equipment, Eyewear & Optician...\n",
              "150345    Beauty & Spas, Permanent Makeup, Piercing, Tattoo\n",
              "Name: categories, Length: 150346, dtype: object"
            ]
          },
          "metadata": {},
          "execution_count": 12
        }
      ]
    },
    {
      "cell_type": "code",
      "source": [
        "df['categories_list'] = df['categories'].apply(lambda row: row.split(',') if isinstance(row, str) else row)"
      ],
      "metadata": {
        "id": "M5SnZ-dlruNj"
      },
      "execution_count": 13,
      "outputs": []
    },
    {
      "cell_type": "code",
      "source": [
        "df.explode('categories_list')"
      ],
      "metadata": {
        "colab": {
          "base_uri": "https://localhost:8080/",
          "height": 424
        },
        "id": "aTkbXaPCr3r9",
        "outputId": "98c809f1-8ad9-466b-b7e8-858bf9520899"
      },
      "execution_count": 15,
      "outputs": [
        {
          "output_type": "execute_result",
          "data": {
            "text/plain": [
              "                   business_id  \\\n",
              "0       Pns2l4eNsfO8kk83dixA6A   \n",
              "0       Pns2l4eNsfO8kk83dixA6A   \n",
              "0       Pns2l4eNsfO8kk83dixA6A   \n",
              "0       Pns2l4eNsfO8kk83dixA6A   \n",
              "0       Pns2l4eNsfO8kk83dixA6A   \n",
              "...                        ...   \n",
              "150344  mtGm22y5c2UHNXDFAjaPNw   \n",
              "150345  jV_XOycEzSlTx-65W906pg   \n",
              "150345  jV_XOycEzSlTx-65W906pg   \n",
              "150345  jV_XOycEzSlTx-65W906pg   \n",
              "150345  jV_XOycEzSlTx-65W906pg   \n",
              "\n",
              "                                               categories  \\\n",
              "0       Doctors, Traditional Chinese Medicine, Naturop...   \n",
              "0       Doctors, Traditional Chinese Medicine, Naturop...   \n",
              "0       Doctors, Traditional Chinese Medicine, Naturop...   \n",
              "0       Doctors, Traditional Chinese Medicine, Naturop...   \n",
              "0       Doctors, Traditional Chinese Medicine, Naturop...   \n",
              "...                                                   ...   \n",
              "150344  Fitness/Exercise Equipment, Eyewear & Optician...   \n",
              "150345  Beauty & Spas, Permanent Makeup, Piercing, Tattoo   \n",
              "150345  Beauty & Spas, Permanent Makeup, Piercing, Tattoo   \n",
              "150345  Beauty & Spas, Permanent Makeup, Piercing, Tattoo   \n",
              "150345  Beauty & Spas, Permanent Makeup, Piercing, Tattoo   \n",
              "\n",
              "                      categories_list  \n",
              "0                             Doctors  \n",
              "0        Traditional Chinese Medicine  \n",
              "0               Naturopathic/Holistic  \n",
              "0                         Acupuncture  \n",
              "0                    Health & Medical  \n",
              "...                               ...  \n",
              "150344                          Bikes  \n",
              "150345                  Beauty & Spas  \n",
              "150345               Permanent Makeup  \n",
              "150345                       Piercing  \n",
              "150345                         Tattoo  \n",
              "\n",
              "[668695 rows x 3 columns]"
            ],
            "text/html": [
              "\n",
              "  <div id=\"df-9248f6cc-3786-4342-a76e-25d666b8949a\">\n",
              "    <div class=\"colab-df-container\">\n",
              "      <div>\n",
              "<style scoped>\n",
              "    .dataframe tbody tr th:only-of-type {\n",
              "        vertical-align: middle;\n",
              "    }\n",
              "\n",
              "    .dataframe tbody tr th {\n",
              "        vertical-align: top;\n",
              "    }\n",
              "\n",
              "    .dataframe thead th {\n",
              "        text-align: right;\n",
              "    }\n",
              "</style>\n",
              "<table border=\"1\" class=\"dataframe\">\n",
              "  <thead>\n",
              "    <tr style=\"text-align: right;\">\n",
              "      <th></th>\n",
              "      <th>business_id</th>\n",
              "      <th>categories</th>\n",
              "      <th>categories_list</th>\n",
              "    </tr>\n",
              "  </thead>\n",
              "  <tbody>\n",
              "    <tr>\n",
              "      <th>0</th>\n",
              "      <td>Pns2l4eNsfO8kk83dixA6A</td>\n",
              "      <td>Doctors, Traditional Chinese Medicine, Naturop...</td>\n",
              "      <td>Doctors</td>\n",
              "    </tr>\n",
              "    <tr>\n",
              "      <th>0</th>\n",
              "      <td>Pns2l4eNsfO8kk83dixA6A</td>\n",
              "      <td>Doctors, Traditional Chinese Medicine, Naturop...</td>\n",
              "      <td>Traditional Chinese Medicine</td>\n",
              "    </tr>\n",
              "    <tr>\n",
              "      <th>0</th>\n",
              "      <td>Pns2l4eNsfO8kk83dixA6A</td>\n",
              "      <td>Doctors, Traditional Chinese Medicine, Naturop...</td>\n",
              "      <td>Naturopathic/Holistic</td>\n",
              "    </tr>\n",
              "    <tr>\n",
              "      <th>0</th>\n",
              "      <td>Pns2l4eNsfO8kk83dixA6A</td>\n",
              "      <td>Doctors, Traditional Chinese Medicine, Naturop...</td>\n",
              "      <td>Acupuncture</td>\n",
              "    </tr>\n",
              "    <tr>\n",
              "      <th>0</th>\n",
              "      <td>Pns2l4eNsfO8kk83dixA6A</td>\n",
              "      <td>Doctors, Traditional Chinese Medicine, Naturop...</td>\n",
              "      <td>Health &amp; Medical</td>\n",
              "    </tr>\n",
              "    <tr>\n",
              "      <th>...</th>\n",
              "      <td>...</td>\n",
              "      <td>...</td>\n",
              "      <td>...</td>\n",
              "    </tr>\n",
              "    <tr>\n",
              "      <th>150344</th>\n",
              "      <td>mtGm22y5c2UHNXDFAjaPNw</td>\n",
              "      <td>Fitness/Exercise Equipment, Eyewear &amp; Optician...</td>\n",
              "      <td>Bikes</td>\n",
              "    </tr>\n",
              "    <tr>\n",
              "      <th>150345</th>\n",
              "      <td>jV_XOycEzSlTx-65W906pg</td>\n",
              "      <td>Beauty &amp; Spas, Permanent Makeup, Piercing, Tattoo</td>\n",
              "      <td>Beauty &amp; Spas</td>\n",
              "    </tr>\n",
              "    <tr>\n",
              "      <th>150345</th>\n",
              "      <td>jV_XOycEzSlTx-65W906pg</td>\n",
              "      <td>Beauty &amp; Spas, Permanent Makeup, Piercing, Tattoo</td>\n",
              "      <td>Permanent Makeup</td>\n",
              "    </tr>\n",
              "    <tr>\n",
              "      <th>150345</th>\n",
              "      <td>jV_XOycEzSlTx-65W906pg</td>\n",
              "      <td>Beauty &amp; Spas, Permanent Makeup, Piercing, Tattoo</td>\n",
              "      <td>Piercing</td>\n",
              "    </tr>\n",
              "    <tr>\n",
              "      <th>150345</th>\n",
              "      <td>jV_XOycEzSlTx-65W906pg</td>\n",
              "      <td>Beauty &amp; Spas, Permanent Makeup, Piercing, Tattoo</td>\n",
              "      <td>Tattoo</td>\n",
              "    </tr>\n",
              "  </tbody>\n",
              "</table>\n",
              "<p>668695 rows × 3 columns</p>\n",
              "</div>\n",
              "      <button class=\"colab-df-convert\" onclick=\"convertToInteractive('df-9248f6cc-3786-4342-a76e-25d666b8949a')\"\n",
              "              title=\"Convert this dataframe to an interactive table.\"\n",
              "              style=\"display:none;\">\n",
              "        \n",
              "  <svg xmlns=\"http://www.w3.org/2000/svg\" height=\"24px\"viewBox=\"0 0 24 24\"\n",
              "       width=\"24px\">\n",
              "    <path d=\"M0 0h24v24H0V0z\" fill=\"none\"/>\n",
              "    <path d=\"M18.56 5.44l.94 2.06.94-2.06 2.06-.94-2.06-.94-.94-2.06-.94 2.06-2.06.94zm-11 1L8.5 8.5l.94-2.06 2.06-.94-2.06-.94L8.5 2.5l-.94 2.06-2.06.94zm10 10l.94 2.06.94-2.06 2.06-.94-2.06-.94-.94-2.06-.94 2.06-2.06.94z\"/><path d=\"M17.41 7.96l-1.37-1.37c-.4-.4-.92-.59-1.43-.59-.52 0-1.04.2-1.43.59L10.3 9.45l-7.72 7.72c-.78.78-.78 2.05 0 2.83L4 21.41c.39.39.9.59 1.41.59.51 0 1.02-.2 1.41-.59l7.78-7.78 2.81-2.81c.8-.78.8-2.07 0-2.86zM5.41 20L4 18.59l7.72-7.72 1.47 1.35L5.41 20z\"/>\n",
              "  </svg>\n",
              "      </button>\n",
              "      \n",
              "  <style>\n",
              "    .colab-df-container {\n",
              "      display:flex;\n",
              "      flex-wrap:wrap;\n",
              "      gap: 12px;\n",
              "    }\n",
              "\n",
              "    .colab-df-convert {\n",
              "      background-color: #E8F0FE;\n",
              "      border: none;\n",
              "      border-radius: 50%;\n",
              "      cursor: pointer;\n",
              "      display: none;\n",
              "      fill: #1967D2;\n",
              "      height: 32px;\n",
              "      padding: 0 0 0 0;\n",
              "      width: 32px;\n",
              "    }\n",
              "\n",
              "    .colab-df-convert:hover {\n",
              "      background-color: #E2EBFA;\n",
              "      box-shadow: 0px 1px 2px rgba(60, 64, 67, 0.3), 0px 1px 3px 1px rgba(60, 64, 67, 0.15);\n",
              "      fill: #174EA6;\n",
              "    }\n",
              "\n",
              "    [theme=dark] .colab-df-convert {\n",
              "      background-color: #3B4455;\n",
              "      fill: #D2E3FC;\n",
              "    }\n",
              "\n",
              "    [theme=dark] .colab-df-convert:hover {\n",
              "      background-color: #434B5C;\n",
              "      box-shadow: 0px 1px 3px 1px rgba(0, 0, 0, 0.15);\n",
              "      filter: drop-shadow(0px 1px 2px rgba(0, 0, 0, 0.3));\n",
              "      fill: #FFFFFF;\n",
              "    }\n",
              "  </style>\n",
              "\n",
              "      <script>\n",
              "        const buttonEl =\n",
              "          document.querySelector('#df-9248f6cc-3786-4342-a76e-25d666b8949a button.colab-df-convert');\n",
              "        buttonEl.style.display =\n",
              "          google.colab.kernel.accessAllowed ? 'block' : 'none';\n",
              "\n",
              "        async function convertToInteractive(key) {\n",
              "          const element = document.querySelector('#df-9248f6cc-3786-4342-a76e-25d666b8949a');\n",
              "          const dataTable =\n",
              "            await google.colab.kernel.invokeFunction('convertToInteractive',\n",
              "                                                     [key], {});\n",
              "          if (!dataTable) return;\n",
              "\n",
              "          const docLinkHtml = 'Like what you see? Visit the ' +\n",
              "            '<a target=\"_blank\" href=https://colab.research.google.com/notebooks/data_table.ipynb>data table notebook</a>'\n",
              "            + ' to learn more about interactive tables.';\n",
              "          element.innerHTML = '';\n",
              "          dataTable['output_type'] = 'display_data';\n",
              "          await google.colab.output.renderOutput(dataTable, element);\n",
              "          const docLink = document.createElement('div');\n",
              "          docLink.innerHTML = docLinkHtml;\n",
              "          element.appendChild(docLink);\n",
              "        }\n",
              "      </script>\n",
              "    </div>\n",
              "  </div>\n",
              "  "
            ]
          },
          "metadata": {},
          "execution_count": 15
        }
      ]
    },
    {
      "cell_type": "code",
      "source": [
        "df.to_csv('categories.csv')"
      ],
      "metadata": {
        "id": "79k1EIUms32-"
      },
      "execution_count": 16,
      "outputs": []
    },
    {
      "cell_type": "code",
      "source": [],
      "metadata": {
        "id": "iIvKdPUytEyr"
      },
      "execution_count": null,
      "outputs": []
    }
  ]
}